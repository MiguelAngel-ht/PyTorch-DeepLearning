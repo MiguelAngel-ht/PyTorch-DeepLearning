{
  "nbformat": 4,
  "nbformat_minor": 0,
  "metadata": {
    "colab": {
      "provenance": [],
      "authorship_tag": "ABX9TyPZQkdRPvuVu14XnSursMH/",
      "include_colab_link": true
    },
    "kernelspec": {
      "name": "python3",
      "display_name": "Python 3"
    },
    "language_info": {
      "name": "python"
    }
  },
  "cells": [
    {
      "cell_type": "markdown",
      "metadata": {
        "id": "view-in-github",
        "colab_type": "text"
      },
      "source": [
        "<a href=\"https://colab.research.google.com/github/MiguelAngel-ht/PyTorch-DeepLearning/blob/main/03Nb-Logistic-Regression.ipynb\" target=\"_parent\"><img src=\"https://colab.research.google.com/assets/colab-badge.svg\" alt=\"Open In Colab\"/></a>"
      ]
    },
    {
      "cell_type": "markdown",
      "source": [
        "# Image Classification with Logistic Regression"
      ],
      "metadata": {
        "id": "Pm4Obe-JSZhh"
      }
    },
    {
      "cell_type": "code",
      "execution_count": 1,
      "metadata": {
        "id": "LUdgKthbQoJt"
      },
      "outputs": [],
      "source": [
        "# importing libraries\n",
        "import torch\n",
        "import torchvision    # pytorch for computer vision \n",
        "from torchvision.datasets import MNIST\n",
        "\n",
        "# to delete output in google colab\n",
        "from google.colab import output"
      ]
    },
    {
      "cell_type": "code",
      "source": [
        "# download training data\n",
        "data = MNIST(root = 'data/', \n",
        "             download = True)\n",
        "output.clear()"
      ],
      "metadata": {
        "id": "V9Rx-hRGQ5Kv"
      },
      "execution_count": 2,
      "outputs": []
    },
    {
      "cell_type": "code",
      "source": [
        "# amount of data\n",
        "len(data)"
      ],
      "metadata": {
        "colab": {
          "base_uri": "https://localhost:8080/"
        },
        "id": "CsnI8qgoRXFV",
        "outputId": "231e6dae-2332-4e4e-fe5f-f2ae1a03f532"
      },
      "execution_count": 3,
      "outputs": [
        {
          "output_type": "execute_result",
          "data": {
            "text/plain": [
              "60000"
            ]
          },
          "metadata": {},
          "execution_count": 3
        }
      ]
    },
    {
      "cell_type": "code",
      "source": [
        "# get test data \n",
        "test = MNIST(root = 'data/',\n",
        "             train = False)\n",
        "len(test)"
      ],
      "metadata": {
        "colab": {
          "base_uri": "https://localhost:8080/"
        },
        "id": "dgbZThLkRhq1",
        "outputId": "10c57068-9baa-4b12-e1b1-aed276312f82"
      },
      "execution_count": 4,
      "outputs": [
        {
          "output_type": "execute_result",
          "data": {
            "text/plain": [
              "10000"
            ]
          },
          "metadata": {},
          "execution_count": 4
        }
      ]
    },
    {
      "cell_type": "code",
      "source": [
        "import matplotlib.pyplot as plt\n",
        "%matplotlib inline"
      ],
      "metadata": {
        "id": "R_jfSYQqR2bm"
      },
      "execution_count": 5,
      "outputs": []
    },
    {
      "cell_type": "code",
      "source": [
        "img, label = data[0]\n",
        "plt.imshow(img, cmap='gray')\n",
        "print('Label:', label)"
      ],
      "metadata": {
        "colab": {
          "base_uri": "https://localhost:8080/",
          "height": 283
        },
        "id": "XYtObxhdSD5Z",
        "outputId": "54320f5a-eb96-480d-bc1b-3735d1e34e20"
      },
      "execution_count": 6,
      "outputs": [
        {
          "output_type": "stream",
          "name": "stdout",
          "text": [
            "Label: 5\n"
          ]
        },
        {
          "output_type": "display_data",
          "data": {
            "text/plain": [
              "<Figure size 432x288 with 1 Axes>"
            ],
            "image/png": "[encoded data removed]"
          },
          "metadata": {
            "needs_background": "light"
          }
        }
      ]
    },
    {
      "cell_type": "markdown",
      "source": [
        "We are going to change data to tensor variables."
      ],
      "metadata": {
        "id": "T6_TBRpsSoUM"
      }
    },
    {
      "cell_type": "code",
      "source": [
        "import torchvision.transforms as transforms"
      ],
      "metadata": {
        "id": "1yX3uNrsSWa_"
      },
      "execution_count": 7,
      "outputs": []
    },
    {
      "cell_type": "code",
      "source": [
        "# download data\n",
        "data = MNIST(root = 'data/',\n",
        "             train = True,\n",
        "             transform = transforms.ToTensor())"
      ],
      "metadata": {
        "id": "kt9ZVpOUSlBM"
      },
      "execution_count": 8,
      "outputs": []
    },
    {
      "cell_type": "code",
      "source": [
        "# split to images and labels\n",
        "img, label = data[0]\n",
        "print(img.shape, label)"
      ],
      "metadata": {
        "colab": {
          "base_uri": "https://localhost:8080/"
        },
        "id": "nFII0ZCFTE15",
        "outputId": "0305aaec-f810-41e5-a72c-c64a9a109778"
      },
      "execution_count": 9,
      "outputs": [
        {
          "output_type": "stream",
          "name": "stdout",
          "text": [
            "torch.Size([1, 28, 28]) 5\n"
          ]
        }
      ]
    },
    {
      "cell_type": "code",
      "source": [
        "# select a region of image and get max and min\n",
        "print(img[:, 10:15, 10:15])\n",
        "print(torch.max(img), torch.min(img))"
      ],
      "metadata": {
        "colab": {
          "base_uri": "https://localhost:8080/"
        },
        "id": "e5Z75eH0TeBp",
        "outputId": "a654eda4-99f2-48ae-cc76-6718c2264601"
      },
      "execution_count": 10,
      "outputs": [
        {
          "output_type": "stream",
          "name": "stdout",
          "text": [
            "tensor([[[0.0039, 0.6039, 0.9922, 0.3529, 0.0000],\n",
            "         [0.0000, 0.5451, 0.9922, 0.7451, 0.0078],\n",
            "         [0.0000, 0.0431, 0.7451, 0.9922, 0.2745],\n",
            "         [0.0000, 0.0000, 0.1373, 0.9451, 0.8824],\n",
            "         [0.0000, 0.0000, 0.0000, 0.3176, 0.9412]]])\n",
            "tensor(1.) tensor(0.)\n"
          ]
        }
      ]
    },
    {
      "cell_type": "markdown",
      "source": [
        "Where 0 is black color and 1 is white color."
      ],
      "metadata": {
        "id": "dCnb8BqRUCoO"
      }
    },
    {
      "cell_type": "code",
      "source": [
        "plt.imshow(img[0,10:15,10:15], 'gray')\n",
        "plt.show()"
      ],
      "metadata": {
        "colab": {
          "base_uri": "https://localhost:8080/",
          "height": 265
        },
        "id": "P385UmfXT_F2",
        "outputId": "1e062349-466c-4d0c-a21a-49216802866c"
      },
      "execution_count": 11,
      "outputs": [
        {
          "output_type": "display_data",
          "data": {
            "text/plain": [
              "<Figure size 432x288 with 1 Axes>"
            ],
            "image/png": "[encoded data removed]"
          },
          "metadata": {
            "needs_background": "light"
          }
        }
      ]
    },
    {
      "cell_type": "markdown",
      "source": [
        "## **Training and Validation**\n",
        "\n",
        "\n",
        "\n",
        "1.   **Training set:** compute the loss and adjust the weights of the model using gradient descent.\n",
        "2.   **Validation set:** adjust hyperparameters (for example: lr) and pick the best version of the model.\n",
        "3. **Test set:** used to compare different models or types of modelling approaches and report the final accuracy of the model.\n",
        "\n"
      ],
      "metadata": {
        "id": "5Ewc01LAUcKg"
      }
    },
    {
      "cell_type": "code",
      "source": [
        "import numpy as np\n",
        "\n",
        "def split_indices(n, val_pct):\n",
        "  \"\"\"\n",
        "      args:\n",
        "              n -  number of values       (int)\n",
        "              val_pct - percent to take   (float)\n",
        "      return: \n",
        "              training set      (array of indices) \n",
        "              validation  set   (array of indices)\n",
        "  \"\"\"\n",
        "  # determine size of validation set\n",
        "  n_val = int(val_pct * n)\n",
        "\n",
        "  # create random permutation of 0 to n-1\n",
        "  idxs = np.random.permutation(n)\n",
        "\n",
        "  # pick first n_val indices for validation set\n",
        "  return idxs[n_val:], idxs[:n_val] "
      ],
      "metadata": {
        "id": "NSOGL3riVMym"
      },
      "execution_count": 12,
      "outputs": []
    },
    {
      "cell_type": "code",
      "source": [
        "train_i, val_i = split_indices(n = len(data),\n",
        "                               val_pct = 0.2)"
      ],
      "metadata": {
        "id": "WrgpaZz1Wg9j"
      },
      "execution_count": 13,
      "outputs": []
    },
    {
      "cell_type": "code",
      "source": [
        "print(len(train_i), len(val_i))\n",
        "print('Sample val indices:', val_i[:10])"
      ],
      "metadata": {
        "colab": {
          "base_uri": "https://localhost:8080/"
        },
        "id": "mQF03gX6Wvzm",
        "outputId": "90b6a23d-9d8c-45ee-c10e-a2e7a2e668a5"
      },
      "execution_count": 14,
      "outputs": [
        {
          "output_type": "stream",
          "name": "stdout",
          "text": [
            "48000 12000\n",
            "Sample val indices: [26374 29850 26885 54963 54590 54033 38830 32670 51329 27776]\n"
          ]
        }
      ]
    },
    {
      "cell_type": "code",
      "source": [
        "from torch.utils.data.sampler import SubsetRandomSampler\n",
        "from torch.utils.data.dataloader import DataLoader"
      ],
      "metadata": {
        "id": "Zk8eYVSHXZda"
      },
      "execution_count": 15,
      "outputs": []
    },
    {
      "cell_type": "code",
      "source": [
        "batch_size = 100\n",
        "\n",
        "# training sampler and data loader\n",
        "train_sampler = SubsetRandomSampler(train_i)\n",
        "train_loader = DataLoader(data,\n",
        "                          batch_size,\n",
        "                          sampler=train_sampler)\n",
        "\n",
        "# validation sampler and data loader\n",
        "val_sampler = SubsetRandomSampler(val_i)\n",
        "val_loader = DataLoader(data,\n",
        "                          batch_size,\n",
        "                          sampler=val_sampler)\n"
      ],
      "metadata": {
        "id": "1vaJhnftXjRy"
      },
      "execution_count": 16,
      "outputs": []
    },
    {
      "cell_type": "markdown",
      "source": [
        "## **Model**\n",
        "\n",
        "\n",
        "\n",
        "*   **Logistic regression** is almost identical to linear regression model `( pred = x @ w.t() + b )`\n",
        "*   We just use `nn.Linear` to create the model instead of defining and initializing the matrices manually.\n",
        "*   The output is a vector of size 10, with every probability of particular target label (0-9). \n",
        "\n",
        "\n",
        " "
      ],
      "metadata": {
        "id": "SwF05cFBavyD"
      }
    },
    {
      "cell_type": "code",
      "source": [
        "import torch.nn as nn\n",
        "\n",
        "input_size = 28 * 28\n",
        "num_classes = 10\n",
        "\n",
        "# logistic regression model\n",
        "model = nn.Linear(input_size, num_classes)"
      ],
      "metadata": {
        "id": "exLqMl3_atS4"
      },
      "execution_count": 17,
      "outputs": []
    },
    {
      "cell_type": "code",
      "source": [
        "print(model.weight.shape)\n",
        "model.weight"
      ],
      "metadata": {
        "colab": {
          "base_uri": "https://localhost:8080/"
        },
        "id": "IxFA0ugMd_J7",
        "outputId": "7e65a881-210f-48bc-de8a-84af5fbfdf5a"
      },
      "execution_count": 18,
      "outputs": [
        {
          "output_type": "stream",
          "name": "stdout",
          "text": [
            "torch.Size([10, 784])\n"
          ]
        },
        {
          "output_type": "execute_result",
          "data": {
            "text/plain": [
              "Parameter containing:\n",
              "tensor([[-0.0266,  0.0357, -0.0187,  ...,  0.0098, -0.0023, -0.0285],\n",
              "        [-0.0294, -0.0267, -0.0005,  ...,  0.0055, -0.0125,  0.0173],\n",
              "        [-0.0066, -0.0135,  0.0257,  ..., -0.0203, -0.0104,  0.0194],\n",
              "        ...,\n",
              "        [-0.0104,  0.0129, -0.0133,  ..., -0.0348,  0.0050,  0.0336],\n",
              "        [-0.0020, -0.0343,  0.0211,  ..., -0.0301, -0.0267,  0.0071],\n",
              "        [-0.0346, -0.0100,  0.0123,  ..., -0.0331, -0.0309,  0.0312]],\n",
              "       requires_grad=True)"
            ]
          },
          "metadata": {},
          "execution_count": 18
        }
      ]
    },
    {
      "cell_type": "code",
      "source": [
        "print(model.bias.shape)\n",
        "model.bias"
      ],
      "metadata": {
        "colab": {
          "base_uri": "https://localhost:8080/"
        },
        "id": "f1HeSPyIeQ8g",
        "outputId": "d9c04461-ffa8-4979-81c8-6a5f587ddb38"
      },
      "execution_count": 19,
      "outputs": [
        {
          "output_type": "stream",
          "name": "stdout",
          "text": [
            "torch.Size([10])\n"
          ]
        },
        {
          "output_type": "execute_result",
          "data": {
            "text/plain": [
              "Parameter containing:\n",
              "tensor([ 0.0043,  0.0210,  0.0275,  0.0128, -0.0338, -0.0217, -0.0167,  0.0229,\n",
              "        -0.0041, -0.0300], requires_grad=True)"
            ]
          },
          "metadata": {},
          "execution_count": 19
        }
      ]
    },
    {
      "cell_type": "code",
      "source": [
        "for images, labels in train_loader:\n",
        "  print(labels)\n",
        "  print(images.shape)\n",
        "  outputs = model(images)\n",
        "  break"
      ],
      "metadata": {
        "colab": {
          "base_uri": "https://localhost:8080/",
          "height": 481
        },
        "id": "Tv_NcyLUeX0x",
        "outputId": "846d0d14-fad0-458b-e327-6c4ddf2a4921"
      },
      "execution_count": 20,
      "outputs": [
        {
          "output_type": "stream",
          "name": "stdout",
          "text": [
            "tensor([4, 3, 5, 4, 2, 6, 4, 6, 4, 4, 1, 1, 7, 4, 8, 8, 4, 1, 1, 7, 0, 5, 8, 0,\n",
            "        2, 8, 9, 6, 8, 2, 1, 8, 3, 0, 9, 9, 7, 7, 8, 6, 8, 4, 4, 4, 2, 3, 1, 7,\n",
            "        4, 0, 0, 5, 7, 0, 5, 9, 6, 8, 1, 4, 1, 8, 1, 1, 3, 6, 3, 3, 0, 3, 2, 9,\n",
            "        8, 1, 6, 1, 9, 8, 2, 5, 9, 0, 9, 1, 0, 7, 8, 5, 7, 0, 0, 2, 1, 9, 7, 2,\n",
            "        1, 0, 9, 9])\n",
            "torch.Size([100, 1, 28, 28])\n"
          ]
        },
        {
          "output_type": "error",
          "ename": "RuntimeError",
          "evalue": "ignored",
          "traceback": [
            "\u001b[0;31m---------------------------------------------------------------------------\u001b[0m",
            "\u001b[0;31mRuntimeError\u001b[0m                              Traceback (most recent call last)",
            "\u001b[0;32m<ipython-input-20-a8c0fa89d43a>\u001b[0m in \u001b[0;36m<module>\u001b[0;34m\u001b[0m\n\u001b[1;32m      2\u001b[0m   \u001b[0mprint\u001b[0m\u001b[0;34m(\u001b[0m\u001b[0mlabels\u001b[0m\u001b[0;34m)\u001b[0m\u001b[0;34m\u001b[0m\u001b[0;34m\u001b[0m\u001b[0m\n\u001b[1;32m      3\u001b[0m   \u001b[0mprint\u001b[0m\u001b[0;34m(\u001b[0m\u001b[0mimages\u001b[0m\u001b[0;34m.\u001b[0m\u001b[0mshape\u001b[0m\u001b[0;34m)\u001b[0m\u001b[0;34m\u001b[0m\u001b[0;34m\u001b[0m\u001b[0m\n\u001b[0;32m----> 4\u001b[0;31m   \u001b[0moutputs\u001b[0m \u001b[0;34m=\u001b[0m \u001b[0mmodel\u001b[0m\u001b[0;34m(\u001b[0m\u001b[0mimages\u001b[0m\u001b[0;34m)\u001b[0m\u001b[0;34m\u001b[0m\u001b[0;34m\u001b[0m\u001b[0m\n\u001b[0m\u001b[1;32m      5\u001b[0m   \u001b[0;32mbreak\u001b[0m\u001b[0;34m\u001b[0m\u001b[0;34m\u001b[0m\u001b[0m\n",
            "\u001b[0;32m/usr/local/lib/python3.8/dist-packages/torch/nn/modules/module.py\u001b[0m in \u001b[0;36m_call_impl\u001b[0;34m(self, *input, **kwargs)\u001b[0m\n\u001b[1;32m   1192\u001b[0m         if not (self._backward_hooks or self._forward_hooks or self._forward_pre_hooks or _global_backward_hooks\n\u001b[1;32m   1193\u001b[0m                 or _global_forward_hooks or _global_forward_pre_hooks):\n\u001b[0;32m-> 1194\u001b[0;31m             \u001b[0;32mreturn\u001b[0m \u001b[0mforward_call\u001b[0m\u001b[0;34m(\u001b[0m\u001b[0;34m*\u001b[0m\u001b[0minput\u001b[0m\u001b[0;34m,\u001b[0m \u001b[0;34m**\u001b[0m\u001b[0mkwargs\u001b[0m\u001b[0;34m)\u001b[0m\u001b[0;34m\u001b[0m\u001b[0;34m\u001b[0m\u001b[0m\n\u001b[0m\u001b[1;32m   1195\u001b[0m         \u001b[0;31m# Do not call functions when jit is used\u001b[0m\u001b[0;34m\u001b[0m\u001b[0;34m\u001b[0m\u001b[0;34m\u001b[0m\u001b[0m\n\u001b[1;32m   1196\u001b[0m         \u001b[0mfull_backward_hooks\u001b[0m\u001b[0;34m,\u001b[0m \u001b[0mnon_full_backward_hooks\u001b[0m \u001b[0;34m=\u001b[0m \u001b[0;34m[\u001b[0m\u001b[0;34m]\u001b[0m\u001b[0;34m,\u001b[0m \u001b[0;34m[\u001b[0m\u001b[0;34m]\u001b[0m\u001b[0;34m\u001b[0m\u001b[0;34m\u001b[0m\u001b[0m\n",
            "\u001b[0;32m/usr/local/lib/python3.8/dist-packages/torch/nn/modules/linear.py\u001b[0m in \u001b[0;36mforward\u001b[0;34m(self, input)\u001b[0m\n\u001b[1;32m    112\u001b[0m \u001b[0;34m\u001b[0m\u001b[0m\n\u001b[1;32m    113\u001b[0m     \u001b[0;32mdef\u001b[0m \u001b[0mforward\u001b[0m\u001b[0;34m(\u001b[0m\u001b[0mself\u001b[0m\u001b[0;34m,\u001b[0m \u001b[0minput\u001b[0m\u001b[0;34m:\u001b[0m \u001b[0mTensor\u001b[0m\u001b[0;34m)\u001b[0m \u001b[0;34m->\u001b[0m \u001b[0mTensor\u001b[0m\u001b[0;34m:\u001b[0m\u001b[0;34m\u001b[0m\u001b[0;34m\u001b[0m\u001b[0m\n\u001b[0;32m--> 114\u001b[0;31m         \u001b[0;32mreturn\u001b[0m \u001b[0mF\u001b[0m\u001b[0;34m.\u001b[0m\u001b[0mlinear\u001b[0m\u001b[0;34m(\u001b[0m\u001b[0minput\u001b[0m\u001b[0;34m,\u001b[0m \u001b[0mself\u001b[0m\u001b[0;34m.\u001b[0m\u001b[0mweight\u001b[0m\u001b[0;34m,\u001b[0m \u001b[0mself\u001b[0m\u001b[0;34m.\u001b[0m\u001b[0mbias\u001b[0m\u001b[0;34m)\u001b[0m\u001b[0;34m\u001b[0m\u001b[0;34m\u001b[0m\u001b[0m\n\u001b[0m\u001b[1;32m    115\u001b[0m \u001b[0;34m\u001b[0m\u001b[0m\n\u001b[1;32m    116\u001b[0m     \u001b[0;32mdef\u001b[0m \u001b[0mextra_repr\u001b[0m\u001b[0;34m(\u001b[0m\u001b[0mself\u001b[0m\u001b[0;34m)\u001b[0m \u001b[0;34m->\u001b[0m \u001b[0mstr\u001b[0m\u001b[0;34m:\u001b[0m\u001b[0;34m\u001b[0m\u001b[0;34m\u001b[0m\u001b[0m\n",
            "\u001b[0;31mRuntimeError\u001b[0m: mat1 and mat2 shapes cannot be multiplied (2800x28 and 784x10)"
          ]
        }
      ]
    },
    {
      "cell_type": "markdown",
      "source": [
        "This error y because we have a shape 1x20x20 but we need a vector of size 784."
      ],
      "metadata": {
        "id": "5iem4zMGhghR"
      }
    },
    {
      "cell_type": "code",
      "source": [
        "class MnistModel(nn.Module):\n",
        "  def __init__(self):\n",
        "    super().__init__()\n",
        "    self.linear = nn.Linear(input_size, num_classes)\n",
        "\n",
        "  def forward(self, xb):\n",
        "    xb = xb.reshape(-1, 784)\n",
        "    out = self.linear(xb)\n",
        "    return out\n",
        "\n",
        "model = MnistModel() "
      ],
      "metadata": {
        "id": "NEIAg2dKhui2"
      },
      "execution_count": 21,
      "outputs": []
    },
    {
      "cell_type": "code",
      "source": [
        "print(model.linear.weight.shape, model.linear.bias.shape)\n",
        "list(model.parameters())"
      ],
      "metadata": {
        "id": "5JMV__TyiRw5",
        "colab": {
          "base_uri": "https://localhost:8080/"
        },
        "outputId": "c232f098-d7b1-4025-a774-5e5d2c47030d"
      },
      "execution_count": 22,
      "outputs": [
        {
          "output_type": "stream",
          "name": "stdout",
          "text": [
            "torch.Size([10, 784]) torch.Size([10])\n"
          ]
        },
        {
          "output_type": "execute_result",
          "data": {
            "text/plain": [
              "[Parameter containing:\n",
              " tensor([[ 0.0234, -0.0247,  0.0326,  ..., -0.0244, -0.0129, -0.0250],\n",
              "         [ 0.0116,  0.0061, -0.0244,  ...,  0.0343, -0.0223,  0.0113],\n",
              "         [ 0.0219,  0.0228, -0.0098,  ...,  0.0214, -0.0108, -0.0199],\n",
              "         ...,\n",
              "         [ 0.0321, -0.0028, -0.0035,  ...,  0.0272,  0.0355, -0.0339],\n",
              "         [ 0.0283,  0.0178, -0.0238,  ...,  0.0296, -0.0101, -0.0327],\n",
              "         [-0.0046,  0.0253,  0.0066,  ..., -0.0287,  0.0030,  0.0343]],\n",
              "        requires_grad=True), Parameter containing:\n",
              " tensor([-0.0302,  0.0182, -0.0166,  0.0289, -0.0098, -0.0320,  0.0327,  0.0246,\n",
              "          0.0030, -0.0055], requires_grad=True)]"
            ]
          },
          "metadata": {},
          "execution_count": 22
        }
      ]
    },
    {
      "cell_type": "code",
      "source": [
        "for images, labels in train_loader:\n",
        "  outputs = model(images)\n",
        "  break\n",
        "\n",
        "print('Outputs shape:', outputs.shape)\n",
        "print('Sample outputs:\\n', outputs[:2].data)"
      ],
      "metadata": {
        "id": "5K8yuBMahukg",
        "colab": {
          "base_uri": "https://localhost:8080/"
        },
        "outputId": "c8e02814-a6be-44bd-a2e4-0a70a9270804"
      },
      "execution_count": 25,
      "outputs": [
        {
          "output_type": "stream",
          "name": "stdout",
          "text": [
            "Outputs shape: torch.Size([100, 10])\n",
            "Sample outputs:\n",
            " tensor([[-0.0041,  0.4124, -0.1818,  0.1052, -0.3190,  0.0301, -0.0376, -0.5573,\n",
            "          0.0746, -0.1030],\n",
            "        [ 0.0277,  0.1581,  0.0197,  0.2479,  0.1811, -0.2653,  0.1012, -0.2026,\n",
            "         -0.1969, -0.0812]])\n"
          ]
        }
      ]
    },
    {
      "cell_type": "code",
      "source": [
        "import torch.nn.functional as F"
      ],
      "metadata": {
        "id": "CUXYYKoD7tGt"
      },
      "execution_count": 26,
      "outputs": []
    },
    {
      "cell_type": "code",
      "source": [
        "# obtaining softmax of every row\n",
        "probs = F.softmax(outputs, dim=1)\n",
        "\n",
        "print('Sample Probabilities:\\n', probs[:2].data)\n",
        "print('Sum:', torch.sum(probs[1]).item())"
      ],
      "metadata": {
        "colab": {
          "base_uri": "https://localhost:8080/"
        },
        "id": "kQmFI2JP79Cp",
        "outputId": "75ac87ef-97fe-4ea9-b8c4-26341d0730ce"
      },
      "execution_count": 29,
      "outputs": [
        {
          "output_type": "stream",
          "name": "stdout",
          "text": [
            "Sample Probabilities:\n",
            " tensor([[0.1024, 0.1553, 0.0857, 0.1142, 0.0748, 0.1060, 0.0990, 0.0589, 0.1108,\n",
            "         0.0928],\n",
            "        [0.1015, 0.1156, 0.1007, 0.1265, 0.1183, 0.0757, 0.1092, 0.0806, 0.0811,\n",
            "         0.0910]])\n",
            "Sum: 1.0\n"
          ]
        }
      ]
    },
    {
      "cell_type": "code",
      "source": [
        "max_probs, preds = torch.max(probs, dim=1)\n",
        "print(preds)\n",
        "print(max_probs)"
      ],
      "metadata": {
        "colab": {
          "base_uri": "https://localhost:8080/"
        },
        "id": "taWqEAtg8PiL",
        "outputId": "0bccf1ff-0c81-4b0b-9cbd-d384d0d81499"
      },
      "execution_count": 30,
      "outputs": [
        {
          "output_type": "stream",
          "name": "stdout",
          "text": [
            "tensor([1, 3, 1, 1, 8, 9, 9, 1, 0, 1, 0, 9, 1, 4, 1, 1, 6, 1, 0, 1, 3, 1, 0, 1,\n",
            "        2, 1, 1, 1, 9, 0, 4, 1, 1, 1, 1, 1, 4, 2, 4, 1, 0, 4, 1, 0, 1, 1, 2, 4,\n",
            "        1, 1, 8, 0, 1, 1, 3, 1, 1, 8, 3, 0, 1, 1, 1, 1, 9, 6, 1, 3, 0, 3, 4, 1,\n",
            "        1, 0, 3, 1, 6, 1, 1, 2, 9, 2, 0, 0, 1, 0, 1, 1, 1, 3, 1, 2, 1, 0, 4, 1,\n",
            "        9, 0, 0, 5])\n",
            "tensor([0.1553, 0.1265, 0.1404, 0.1517, 0.1367, 0.1321, 0.1468, 0.1594, 0.1333,\n",
            "        0.1395, 0.1459, 0.1229, 0.1336, 0.1224, 0.1253, 0.1309, 0.1187, 0.1294,\n",
            "        0.1465, 0.1584, 0.1149, 0.1315, 0.1307, 0.1455, 0.1186, 0.1474, 0.1279,\n",
            "        0.1285, 0.1512, 0.1251, 0.1114, 0.1232, 0.1424, 0.1246, 0.1271, 0.1199,\n",
            "        0.1329, 0.1125, 0.1229, 0.1371, 0.1212, 0.1207, 0.1354, 0.1184, 0.1264,\n",
            "        0.1723, 0.1185, 0.1131, 0.1578, 0.1213, 0.1230, 0.1191, 0.1440, 0.1380,\n",
            "        0.1250, 0.1473, 0.1344, 0.1348, 0.1221, 0.1580, 0.1339, 0.1423, 0.1341,\n",
            "        0.1400, 0.1198, 0.1370, 0.1406, 0.1198, 0.1367, 0.1194, 0.1191, 0.1378,\n",
            "        0.1356, 0.1224, 0.1165, 0.1317, 0.1166, 0.1425, 0.1289, 0.1263, 0.1181,\n",
            "        0.1407, 0.1350, 0.1458, 0.1291, 0.1404, 0.1474, 0.1574, 0.1259, 0.1175,\n",
            "        0.1363, 0.1205, 0.1290, 0.1206, 0.1192, 0.1451, 0.1230, 0.1452, 0.1172,\n",
            "        0.1278], grad_fn=<MaxBackward0>)\n"
          ]
        }
      ]
    },
    {
      "cell_type": "code",
      "source": [
        "labels"
      ],
      "metadata": {
        "colab": {
          "base_uri": "https://localhost:8080/"
        },
        "id": "R4fpZXcy85mA",
        "outputId": "e30e5cbb-261f-4628-8588-c9482039a7f1"
      },
      "execution_count": 31,
      "outputs": [
        {
          "output_type": "execute_result",
          "data": {
            "text/plain": [
              "tensor([5, 8, 4, 9, 1, 9, 4, 8, 8, 9, 8, 2, 4, 7, 2, 9, 2, 6, 6, 0, 2, 2, 1, 6,\n",
              "        1, 6, 9, 3, 0, 1, 1, 5, 0, 6, 6, 3, 8, 6, 8, 9, 8, 9, 9, 6, 6, 2, 1, 7,\n",
              "        0, 8, 1, 2, 5, 5, 7, 5, 0, 1, 7, 6, 5, 5, 4, 8, 3, 9, 6, 1, 2, 2, 2, 7,\n",
              "        7, 4, 1, 8, 8, 9, 9, 6, 1, 3, 6, 6, 3, 2, 3, 7, 9, 1, 9, 1, 5, 1, 8, 9,\n",
              "        2, 2, 2, 5])"
            ]
          },
          "metadata": {},
          "execution_count": 31
        }
      ]
    },
    {
      "cell_type": "markdown",
      "source": [
        "# Evaluation Metric and Loss Function "
      ],
      "metadata": {
        "id": "dxfckjT49aes"
      }
    },
    {
      "cell_type": "code",
      "source": [
        "def accuracy(l1, l2):\n",
        "  return torch.sum(l1 == l2).item() / len(l1)"
      ],
      "metadata": {
        "id": "FNiF9OSt9BDx"
      },
      "execution_count": 32,
      "outputs": []
    },
    {
      "cell_type": "code",
      "source": [
        "accuracy(preds, labels)"
      ],
      "metadata": {
        "colab": {
          "base_uri": "https://localhost:8080/"
        },
        "id": "5qDqa56a9q2B",
        "outputId": "35f2695d-926a-433b-ed0b-38ce20d893f5"
      },
      "execution_count": 36,
      "outputs": [
        {
          "output_type": "execute_result",
          "data": {
            "text/plain": [
              "0.02"
            ]
          },
          "metadata": {},
          "execution_count": 36
        }
      ]
    },
    {
      "cell_type": "code",
      "source": [
        "loss_fn = F.cross_entropy"
      ],
      "metadata": {
        "id": "V1X58YzR-mQb"
      },
      "execution_count": 37,
      "outputs": []
    },
    {
      "cell_type": "code",
      "source": [
        "# Loss fof current batch of data\n",
        "loss = loss_fn(outputs, labels)\n",
        "print(loss)"
      ],
      "metadata": {
        "colab": {
          "base_uri": "https://localhost:8080/"
        },
        "id": "j3M8IKrmA_y5",
        "outputId": "74a6f30f-5081-40f8-c478-eb0e7d2bc3dd"
      },
      "execution_count": 38,
      "outputs": [
        {
          "output_type": "stream",
          "name": "stdout",
          "text": [
            "tensor(2.3453, grad_fn=<NllLossBackward0>)\n"
          ]
        }
      ]
    },
    {
      "cell_type": "markdown",
      "source": [
        "# Optimizer\n",
        "\n",
        "Function to update the weights and biases during training. "
      ],
      "metadata": {
        "id": "LAcwK6s-BNAB"
      }
    },
    {
      "cell_type": "code",
      "source": [
        "learning_rate = 0.001\n",
        "optimizer = torch.optim.SGD(model.parameters(), lr=learning_rate)"
      ],
      "metadata": {
        "id": "yelLcLdOBYIy"
      },
      "execution_count": 39,
      "outputs": []
    },
    {
      "cell_type": "markdown",
      "source": [
        "# Training the Model"
      ],
      "metadata": {
        "id": "DbslkbR5Bogd"
      }
    },
    {
      "cell_type": "code",
      "source": [
        "def loss_batch(model, loss_func, xb, yb, opt=None, metric=None):\n",
        "    # calculate loss\n",
        "    preds = model(xb)\n",
        "    loss = loss_func(preds, yb)\n",
        "\n",
        "    if opt:\n",
        "      # compute gradients\n",
        "      loss.backward()\n",
        "      \n",
        "      # update parameters\n",
        "      opt.step()\n",
        "\n",
        "      # reset gradients\n",
        "      opt.zero_grad()\n",
        "    \n",
        "    metric_result = None\n",
        "    if metric:\n",
        "      # compute the metric\n",
        "      metric_result = metric(preds, yb)\n",
        "\n",
        "    return loss.item(), len(xb), metric_result "
      ],
      "metadata": {
        "id": "fKl6J7QGBLOB"
      },
      "execution_count": 40,
      "outputs": []
    },
    {
      "cell_type": "code",
      "source": [
        "def evaluate(model, loss_fn, valid_dl, metric=None):\n",
        "    with torch.no_grad():\n",
        "        # pass each batch through the model\n",
        "        results = [loss_batch(model, loss_fn, xb, yb, metric=metric)\n",
        "                    for xb, yb in valid_dl]\n",
        "        # separate losses, counts and metrics\n",
        "        losses, nums, metrics = zip(*results)\n",
        "        # total size of the dataset\n",
        "        total = np.sum(nums)\n",
        "        # average loss across batches\n",
        "        avg_loss = np.sum(np.multiply(losses, nums)) / total\n",
        "        avg_metric = None\n",
        "\n",
        "        if metric:\n",
        "          # average of metric across batches\n",
        "          avg_metric = np.sum(np.multiply(metrics, nums)) / total\n",
        "\n",
        "    return avg_loss, total, avg_metric"
      ],
      "metadata": {
        "id": "1xnjz897C52U"
      },
      "execution_count": 54,
      "outputs": []
    },
    {
      "cell_type": "code",
      "source": [
        "def accuracy(outputs, labels):\n",
        "  _, preds = torch.max(outputs, dim=1)\n",
        "  return torch.sum(preds == labels).item() / len(preds)"
      ],
      "metadata": {
        "id": "cgSwt586ESVm"
      },
      "execution_count": 43,
      "outputs": []
    },
    {
      "cell_type": "code",
      "source": [
        "val_loss, total, val_acc = evaluate(model, loss_fn, val_loader, metric=accuracy)\n",
        "print('Loss: {:.4f}, Accuracy: {:.4f}'.format(val_loss, val_acc))"
      ],
      "metadata": {
        "colab": {
          "base_uri": "https://localhost:8080/"
        },
        "id": "RU6L9j8KEkQ9",
        "outputId": "8f42031a-d638-403d-9dcb-2759f51cfb27"
      },
      "execution_count": 46,
      "outputs": [
        {
          "output_type": "stream",
          "name": "stdout",
          "text": [
            "Loss: 0.0316, Accuracy: 0.0316\n"
          ]
        }
      ]
    },
    {
      "cell_type": "code",
      "source": [
        "def fit(epochs, model, loss_fn, opt, train_dl, valid_dl, metric=None):\n",
        "    for epoch in range(epochs):\n",
        "      # training \n",
        "      for xb, yb in train_dl:\n",
        "          loss, _, _ = loss_batch(model, loss_fn, xb, yb, opt)\n",
        "\n",
        "      # evaluation\n",
        "      result = evaluate(model, loss_fn, valid_dl, metric)\n",
        "      val_loss, total, val_metric = result\n",
        "\n",
        "      # print progress\n",
        "      if metric:\n",
        "        print('Epoch [{}/{}], Loss: {:.4f}, {}: {:.4f}'\n",
        "              .format(epoch+1, epochs, val_loss, metric.__name__, val_metric)) \n",
        "      else:\n",
        "        print('Epoch [{}/{}], Loss: {:.4f}'\n",
        "              .format(epoch+1, epochs, val_loss))\n",
        "        "
      ],
      "metadata": {
        "id": "6NY0omDGFTEN"
      },
      "execution_count": 51,
      "outputs": []
    },
    {
      "cell_type": "code",
      "source": [
        "# Redefine model and optimizer\n",
        "model = MnistModel()\n",
        "optimizer = torch.optim.SGD(model.parameters(), lr=learning_rate)"
      ],
      "metadata": {
        "id": "gwJRLeEAGtic"
      },
      "execution_count": 56,
      "outputs": []
    },
    {
      "cell_type": "code",
      "source": [
        "fit(5, model, F.cross_entropy, optimizer, train_loader, val_loader, accuracy)"
      ],
      "metadata": {
        "colab": {
          "base_uri": "https://localhost:8080/"
        },
        "id": "TymNGLtSHC3v",
        "outputId": "f43fb9da-a11b-45d2-ece7-1fba3151e898"
      },
      "execution_count": 57,
      "outputs": [
        {
          "output_type": "stream",
          "name": "stdout",
          "text": [
            "Epoch [1/5], Loss: 1.8764, accuracy: 0.6477\n",
            "Epoch [2/5], Loss: 1.5810, accuracy: 0.7372\n",
            "Epoch [3/5], Loss: 1.3722, accuracy: 0.7708\n",
            "Epoch [4/5], Loss: 1.2216, accuracy: 0.7912\n",
            "Epoch [5/5], Loss: 1.1097, accuracy: 0.8044\n"
          ]
        }
      ]
    },
    {
      "cell_type": "code",
      "source": [
        "# plot accuracies\n",
        "\n",
        "accuracies = [0.6477, 0.7372, 0.7708, 0.7912, 0.8044]\n",
        "\n",
        "plt.plot(accuracies, '-x')\n",
        "plt.xlabel('epoch')\n",
        "plt.ylabel('accuracy')\n",
        "plt.title('Accuracy vs No. of epochs')\n",
        "plt.show()"
      ],
      "metadata": {
        "colab": {
          "base_uri": "https://localhost:8080/",
          "height": 295
        },
        "id": "-wq-8Ov9JQy6",
        "outputId": "ebb9f397-cdf6-49e5-dd81-cae7b93aeb5a"
      },
      "execution_count": 59,
      "outputs": [
        {
          "output_type": "display_data",
          "data": {
            "text/plain": [
              "<Figure size 432x288 with 1 Axes>"
            ],
            "image/png": "[encoded data removed]"
          },
          "metadata": {
            "needs_background": "light"
          }
        }
      ]
    },
    {
      "cell_type": "markdown",
      "source": [
        "# Testing with Individual Images"
      ],
      "metadata": {
        "id": "c5skqfzxKcj6"
      }
    },
    {
      "cell_type": "code",
      "source": [
        "# define test data\n",
        "\n",
        "test_data = MNIST(root='data/',\n",
        "                  train=False,\n",
        "                  transform=transforms.ToTensor())"
      ],
      "metadata": {
        "id": "y59keyUrKgMz"
      },
      "execution_count": 61,
      "outputs": []
    },
    {
      "cell_type": "code",
      "source": [
        "img, label = test_data[0]\n",
        "plt.imshow(img[0], cmap='gray')\n",
        "print('Shape:', img.shape)\n",
        "print('Label:', label)"
      ],
      "metadata": {
        "colab": {
          "base_uri": "https://localhost:8080/",
          "height": 301
        },
        "id": "3ZuT2ML3K_fs",
        "outputId": "35b4eeb7-6f3f-4c20-e752-70037470f42b"
      },
      "execution_count": 63,
      "outputs": [
        {
          "output_type": "stream",
          "name": "stdout",
          "text": [
            "Shape: torch.Size([1, 28, 28])\n",
            "Label: 7\n"
          ]
        },
        {
          "output_type": "display_data",
          "data": {
            "text/plain": [
              "<Figure size 432x288 with 1 Axes>"
            ],
            "image/png": "[encoded data removed]"
          },
          "metadata": {
            "needs_background": "light"
          }
        }
      ]
    },
    {
      "cell_type": "code",
      "source": [
        "img.unsqueeze(0).shape"
      ],
      "metadata": {
        "colab": {
          "base_uri": "https://localhost:8080/"
        },
        "id": "O8RqZ5GHKb1I",
        "outputId": "fccf8f93-3e8c-4ac3-f3d6-6cf64b51bc28"
      },
      "execution_count": 64,
      "outputs": [
        {
          "output_type": "execute_result",
          "data": {
            "text/plain": [
              "torch.Size([1, 1, 28, 28])"
            ]
          },
          "metadata": {},
          "execution_count": 64
        }
      ]
    },
    {
      "cell_type": "code",
      "source": [
        "def predict_image(img, model):\n",
        "  xb = img.unsqueeze(0)\n",
        "  yb = model(xb)\n",
        "  _, preds = torch.max(yb, dim=1)\n",
        "  return preds[0].item()"
      ],
      "metadata": {
        "id": "l0S9UUJaLajj"
      },
      "execution_count": 68,
      "outputs": []
    },
    {
      "cell_type": "code",
      "source": [
        "img, label = test_data[0]\n",
        "plt.imshow(img[0], cmap='gray')\n",
        "print('Label:', label, ', Predicted:', predict_image(img, model))\n",
        "plt.show()"
      ],
      "metadata": {
        "colab": {
          "base_uri": "https://localhost:8080/",
          "height": 283
        },
        "id": "GW1ZP47xLqIq",
        "outputId": "8477aae6-39e9-4438-d599-a01aa7747a54"
      },
      "execution_count": 69,
      "outputs": [
        {
          "output_type": "stream",
          "name": "stdout",
          "text": [
            "Label: 7 , Predicted: 7\n"
          ]
        },
        {
          "output_type": "display_data",
          "data": {
            "text/plain": [
              "<Figure size 432x288 with 1 Axes>"
            ],
            "image/png": "[encoded data removed]"
          },
          "metadata": {
            "needs_background": "light"
          }
        }
      ]
    },
    {
      "cell_type": "code",
      "source": [
        "img, label = test_data[10]\n",
        "plt.imshow(img[0], cmap='gray')\n",
        "print('Label:', label, ', Predicted:', predict_image(img, model))\n",
        "plt.show()"
      ],
      "metadata": {
        "colab": {
          "base_uri": "https://localhost:8080/",
          "height": 283
        },
        "id": "2bAO-YgCLtxt",
        "outputId": "0adde818-7b05-4786-d1f6-3d762b2ace27"
      },
      "execution_count": 70,
      "outputs": [
        {
          "output_type": "stream",
          "name": "stdout",
          "text": [
            "Label: 0 , Predicted: 0\n"
          ]
        },
        {
          "output_type": "display_data",
          "data": {
            "text/plain": [
              "<Figure size 432x288 with 1 Axes>"
            ],
            "image/png": "[encoded data removed]"
          },
          "metadata": {
            "needs_background": "light"
          }
        }
      ]
    }
  ]
}