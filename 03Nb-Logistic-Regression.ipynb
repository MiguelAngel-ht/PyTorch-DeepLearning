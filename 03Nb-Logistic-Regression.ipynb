{
  "nbformat": 4,
  "nbformat_minor": 0,
  "metadata": {
    "colab": {
      "provenance": [],
      "authorship_tag": "ABX9TyNfAVHlx8pIzxXDCFJ5gs64",
      "include_colab_link": true
    },
    "kernelspec": {
      "name": "python3",
      "display_name": "Python 3"
    },
    "language_info": {
      "name": "python"
    }
  },
  "cells": [
    {
      "cell_type": "markdown",
      "metadata": {
        "id": "view-in-github",
        "colab_type": "text"
      },
      "source": [
        "<a href=\"https://colab.research.google.com/github/MiguelAngel-ht/PyTorch-Examples/blob/main/03Nb-Logistic-Regression.ipynb\" target=\"_parent\"><img src=\"https://colab.research.google.com/assets/colab-badge.svg\" alt=\"Open In Colab\"/></a>"
      ]
    },
    {
      "cell_type": "markdown",
      "source": [
        "# Image Classification with Logistic Regression"
      ],
      "metadata": {
        "id": "Pm4Obe-JSZhh"
      }
    },
    {
      "cell_type": "code",
      "execution_count": 2,
      "metadata": {
        "id": "LUdgKthbQoJt"
      },
      "outputs": [],
      "source": [
        "# importing libraries\n",
        "import torch\n",
        "import torchvision    # pytorch for computer vision \n",
        "from torchvision.datasets import MNIST\n",
        "\n",
        "# to delete output in google colab\n",
        "from google.colab import output"
      ]
    },
    {
      "cell_type": "code",
      "source": [
        "# download training data\n",
        "data = MNIST(root = 'data/', \n",
        "             download = True)\n",
        "output.clear()"
      ],
      "metadata": {
        "id": "V9Rx-hRGQ5Kv"
      },
      "execution_count": 3,
      "outputs": []
    },
    {
      "cell_type": "code",
      "source": [
        "# amount of data\n",
        "len(data)"
      ],
      "metadata": {
        "colab": {
          "base_uri": "https://localhost:8080/"
        },
        "id": "CsnI8qgoRXFV",
        "outputId": "d483087f-80d3-4634-91d2-5198748e3647"
      },
      "execution_count": 4,
      "outputs": [
        {
          "output_type": "execute_result",
          "data": {
            "text/plain": [
              "60000"
            ]
          },
          "metadata": {},
          "execution_count": 4
        }
      ]
    },
    {
      "cell_type": "code",
      "source": [
        "# get test data \n",
        "test = MNIST(root = 'data/',\n",
        "             train = False)\n",
        "len(test)"
      ],
      "metadata": {
        "colab": {
          "base_uri": "https://localhost:8080/"
        },
        "id": "dgbZThLkRhq1",
        "outputId": "b686000e-bf19-47bc-d200-866caa2730a9"
      },
      "execution_count": 5,
      "outputs": [
        {
          "output_type": "execute_result",
          "data": {
            "text/plain": [
              "10000"
            ]
          },
          "metadata": {},
          "execution_count": 5
        }
      ]
    },
    {
      "cell_type": "code",
      "source": [
        "import matplotlib.pyplot as plt\n",
        "%matplotlib inline"
      ],
      "metadata": {
        "id": "R_jfSYQqR2bm"
      },
      "execution_count": 6,
      "outputs": []
    },
    {
      "cell_type": "code",
      "source": [
        "img, label = data[0]\n",
        "plt.imshow(img, cmap='gray')\n",
        "print('Label:', label)"
      ],
      "metadata": {
        "colab": {
          "base_uri": "https://localhost:8080/",
          "height": 283
        },
        "id": "XYtObxhdSD5Z",
        "outputId": "0ae0b016-4a64-4d1e-dcff-a6a94559605b"
      },
      "execution_count": 7,
      "outputs": [
        {
          "output_type": "stream",
          "name": "stdout",
          "text": [
            "Label: 5\n"
          ]
        },
        {
          "output_type": "display_data",
          "data": {
            "text/plain": [
              "<Figure size 432x288 with 1 Axes>"
            ],
            "image/png": "[encoded data removed]"
          },
          "metadata": {
            "needs_background": "light"
          }
        }
      ]
    },
    {
      "cell_type": "markdown",
      "source": [
        "We are going to change data to tensor variables."
      ],
      "metadata": {
        "id": "T6_TBRpsSoUM"
      }
    },
    {
      "cell_type": "code",
      "source": [
        "import torchvision.transforms as transforms"
      ],
      "metadata": {
        "id": "1yX3uNrsSWa_"
      },
      "execution_count": 8,
      "outputs": []
    },
    {
      "cell_type": "code",
      "source": [
        "# download data\n",
        "data = MNIST(root = 'data/',\n",
        "             train = True,\n",
        "             transform = transforms.ToTensor())"
      ],
      "metadata": {
        "id": "kt9ZVpOUSlBM"
      },
      "execution_count": 10,
      "outputs": []
    },
    {
      "cell_type": "code",
      "source": [
        "# split to images and labels\n",
        "img, label = data[0]\n",
        "print(img.shape, label)"
      ],
      "metadata": {
        "colab": {
          "base_uri": "https://localhost:8080/"
        },
        "id": "nFII0ZCFTE15",
        "outputId": "551cd4e8-d4c0-490d-a367-1f2561607c8e"
      },
      "execution_count": 11,
      "outputs": [
        {
          "output_type": "stream",
          "name": "stdout",
          "text": [
            "torch.Size([1, 28, 28]) 5\n"
          ]
        }
      ]
    },
    {
      "cell_type": "code",
      "source": [
        "# select a region of image and get max and min\n",
        "print(img[:, 10:15, 10:15])\n",
        "print(torch.max(img), torch.min(img))"
      ],
      "metadata": {
        "colab": {
          "base_uri": "https://localhost:8080/"
        },
        "id": "e5Z75eH0TeBp",
        "outputId": "bae20aed-8f03-4bd3-83b0-4c9b2ac490bb"
      },
      "execution_count": 12,
      "outputs": [
        {
          "output_type": "stream",
          "name": "stdout",
          "text": [
            "tensor([[[0.0039, 0.6039, 0.9922, 0.3529, 0.0000],\n",
            "         [0.0000, 0.5451, 0.9922, 0.7451, 0.0078],\n",
            "         [0.0000, 0.0431, 0.7451, 0.9922, 0.2745],\n",
            "         [0.0000, 0.0000, 0.1373, 0.9451, 0.8824],\n",
            "         [0.0000, 0.0000, 0.0000, 0.3176, 0.9412]]])\n",
            "tensor(1.) tensor(0.)\n"
          ]
        }
      ]
    },
    {
      "cell_type": "markdown",
      "source": [
        "Where 0 is black color and 1 is white color."
      ],
      "metadata": {
        "id": "dCnb8BqRUCoO"
      }
    },
    {
      "cell_type": "code",
      "source": [
        "plt.imshow(img[0,10:15,10:15], 'gray')\n",
        "plt.show()"
      ],
      "metadata": {
        "colab": {
          "base_uri": "https://localhost:8080/",
          "height": 265
        },
        "id": "P385UmfXT_F2",
        "outputId": "84e650ff-6a38-47f8-f773-c9087532dc9b"
      },
      "execution_count": 15,
      "outputs": [
        {
          "output_type": "display_data",
          "data": {
            "text/plain": [
              "<Figure size 432x288 with 1 Axes>"
            ],
            "image/png": "[encoded data removed]"
          },
          "metadata": {
            "needs_background": "light"
          }
        }
      ]
    },
    {
      "cell_type": "markdown",
      "source": [
        "## **Training and Validation**\n",
        "\n",
        "\n",
        "\n",
        "1.   **Training set:** compute the loss and adjust the weights of the model using gradient descent.\n",
        "2.   **Validation set:** adjust hyperparameters (for example: lr) and pick the best version of the model.\n",
        "3. **Test set:** used to compare different models or types of modelling approaches and report the final accuracy of the model.\n",
        "\n"
      ],
      "metadata": {
        "id": "5Ewc01LAUcKg"
      }
    },
    {
      "cell_type": "code",
      "source": [
        "import numpy as np\n",
        "\n",
        "def split_indices(n, val_pct):\n",
        "  \"\"\"\n",
        "      args:\n",
        "              n -  number of values       (int)\n",
        "              val_pct - percent to take   (float)\n",
        "      return: \n",
        "              training set      (array of indices) \n",
        "              validation  set   (array of indices)\n",
        "  \"\"\"\n",
        "  # determine size of validation set\n",
        "  n_val = int(val_pct * n)\n",
        "\n",
        "  # create random permutation of 0 to n-1\n",
        "  idxs = np.random.permutation(n)\n",
        "\n",
        "  # pick first n_val indices for validation set\n",
        "  return idxs[n_val:], idxs[:n_val] "
      ],
      "metadata": {
        "id": "NSOGL3riVMym"
      },
      "execution_count": 16,
      "outputs": []
    },
    {
      "cell_type": "code",
      "source": [
        "train_i, val_i = split_indices(n = len(data),\n",
        "                               val_pct = 0.2)"
      ],
      "metadata": {
        "id": "WrgpaZz1Wg9j"
      },
      "execution_count": 17,
      "outputs": []
    },
    {
      "cell_type": "code",
      "source": [
        "print(len(train_i), len(val_i))\n",
        "print('Sample val indices:', val_i[:10])"
      ],
      "metadata": {
        "colab": {
          "base_uri": "https://localhost:8080/"
        },
        "id": "mQF03gX6Wvzm",
        "outputId": "4ad7b040-dd57-4d83-b581-8b94fe7d6967"
      },
      "execution_count": 19,
      "outputs": [
        {
          "output_type": "stream",
          "name": "stdout",
          "text": [
            "48000 12000\n",
            "Sample val indices: [14503 16726 23011 29386 21832 45576 23621 20885 18873 36998]\n"
          ]
        }
      ]
    },
    {
      "cell_type": "code",
      "source": [
        "from torch.utils.data.sampler import SubsetRandomSampler\n",
        "from torch.utils.data.dataloader import DataLoader"
      ],
      "metadata": {
        "id": "Zk8eYVSHXZda"
      },
      "execution_count": 20,
      "outputs": []
    },
    {
      "cell_type": "code",
      "source": [
        "batch_size = 100\n",
        "\n",
        "# training sampler and data loader\n",
        "train_sampler = SubsetRandomSampler(train_i)\n",
        "train_loader = DataLoader(data,\n",
        "                          batch_size,\n",
        "                          sampler=train_sampler)\n",
        "\n",
        "# validation sampler and data loader\n",
        "val_sampler = SubsetRandomSampler(val_i)\n",
        "val_loader = DataLoader(data,\n",
        "                          batch_size,\n",
        "                          sampler=val_sampler)\n"
      ],
      "metadata": {
        "id": "1vaJhnftXjRy"
      },
      "execution_count": 21,
      "outputs": []
    },
    {
      "cell_type": "markdown",
      "source": [
        "## **Model**\n",
        "\n",
        "\n",
        "\n",
        "*   **Logistic regression** is almost identical to linear regression model `( pred = x @ w.t() + b )`\n",
        "*   We just use `nn.Linear` to create the model instead of defining and initializing the matrices manually.\n",
        "*   The output is a vector of sie 10, with every probability of particular target label (0-9). \n",
        "\n",
        "\n",
        " "
      ],
      "metadata": {
        "id": "SwF05cFBavyD"
      }
    },
    {
      "cell_type": "code",
      "source": [
        "import torch.nn as nn\n",
        "\n",
        "input_size = 28 * 28\n",
        "num_classes = 10\n",
        "\n",
        "# logistic regression model\n",
        "model = nn.Linear(input_size, num_classes)"
      ],
      "metadata": {
        "id": "exLqMl3_atS4"
      },
      "execution_count": 22,
      "outputs": []
    },
    {
      "cell_type": "code",
      "source": [
        "print(model.weight.shape)\n",
        "model.weight"
      ],
      "metadata": {
        "colab": {
          "base_uri": "https://localhost:8080/"
        },
        "id": "IxFA0ugMd_J7",
        "outputId": "a022a3ec-cc5a-432d-a52b-c96597c96a4d"
      },
      "execution_count": 23,
      "outputs": [
        {
          "output_type": "stream",
          "name": "stdout",
          "text": [
            "torch.Size([10, 784])\n"
          ]
        },
        {
          "output_type": "execute_result",
          "data": {
            "text/plain": [
              "Parameter containing:\n",
              "tensor([[ 0.0087, -0.0078,  0.0137,  ..., -0.0073,  0.0349,  0.0324],\n",
              "        [-0.0207, -0.0009,  0.0055,  ...,  0.0095, -0.0174,  0.0259],\n",
              "        [-0.0292, -0.0182, -0.0179,  ...,  0.0045, -0.0091, -0.0327],\n",
              "        ...,\n",
              "        [-0.0039, -0.0319, -0.0060,  ..., -0.0020,  0.0160,  0.0239],\n",
              "        [ 0.0300,  0.0216,  0.0220,  ..., -0.0019,  0.0086,  0.0258],\n",
              "        [ 0.0167,  0.0172, -0.0289,  ...,  0.0128, -0.0254,  0.0092]],\n",
              "       requires_grad=True)"
            ]
          },
          "metadata": {},
          "execution_count": 23
        }
      ]
    },
    {
      "cell_type": "code",
      "source": [
        "print(model.bias.shape)\n",
        "model.bias"
      ],
      "metadata": {
        "colab": {
          "base_uri": "https://localhost:8080/"
        },
        "id": "f1HeSPyIeQ8g",
        "outputId": "35021278-c7ba-4799-f1ab-d8b90de602cc"
      },
      "execution_count": 24,
      "outputs": [
        {
          "output_type": "stream",
          "name": "stdout",
          "text": [
            "torch.Size([10])\n"
          ]
        },
        {
          "output_type": "execute_result",
          "data": {
            "text/plain": [
              "Parameter containing:\n",
              "tensor([-0.0110, -0.0052, -0.0108, -0.0248,  0.0265,  0.0087,  0.0087,  0.0330,\n",
              "        -0.0136,  0.0088], requires_grad=True)"
            ]
          },
          "metadata": {},
          "execution_count": 24
        }
      ]
    },
    {
      "cell_type": "code",
      "source": [
        "for images, labels in train_loader:\n",
        "  print(labels)\n",
        "  print(images.shape)\n",
        "  outputs = model(images)\n",
        "  break"
      ],
      "metadata": {
        "colab": {
          "base_uri": "https://localhost:8080/",
          "height": 481
        },
        "id": "Tv_NcyLUeX0x",
        "outputId": "2cad36ee-3ea8-480b-f0bc-118314e76bae"
      },
      "execution_count": 26,
      "outputs": [
        {
          "output_type": "stream",
          "name": "stdout",
          "text": [
            "tensor([5, 1, 6, 7, 7, 6, 9, 0, 2, 6, 1, 8, 6, 1, 1, 3, 1, 2, 0, 8, 4, 6, 1, 9,\n",
            "        6, 9, 5, 3, 0, 0, 3, 1, 9, 6, 6, 1, 4, 9, 1, 4, 0, 4, 4, 4, 9, 2, 4, 0,\n",
            "        3, 8, 9, 1, 3, 0, 2, 4, 6, 4, 9, 6, 4, 6, 0, 5, 4, 4, 6, 5, 3, 2, 9, 8,\n",
            "        1, 9, 7, 9, 1, 8, 4, 2, 7, 4, 8, 9, 6, 8, 3, 5, 2, 2, 4, 1, 8, 1, 7, 9,\n",
            "        6, 3, 7, 2])\n",
            "torch.Size([100, 1, 28, 28])\n"
          ]
        },
        {
          "output_type": "error",
          "ename": "RuntimeError",
          "evalue": "ignored",
          "traceback": [
            "\u001b[0;31m---------------------------------------------------------------------------\u001b[0m",
            "\u001b[0;31mRuntimeError\u001b[0m                              Traceback (most recent call last)",
            "\u001b[0;32m<ipython-input-26-a8c0fa89d43a>\u001b[0m in \u001b[0;36m<module>\u001b[0;34m\u001b[0m\n\u001b[1;32m      2\u001b[0m   \u001b[0mprint\u001b[0m\u001b[0;34m(\u001b[0m\u001b[0mlabels\u001b[0m\u001b[0;34m)\u001b[0m\u001b[0;34m\u001b[0m\u001b[0;34m\u001b[0m\u001b[0m\n\u001b[1;32m      3\u001b[0m   \u001b[0mprint\u001b[0m\u001b[0;34m(\u001b[0m\u001b[0mimages\u001b[0m\u001b[0;34m.\u001b[0m\u001b[0mshape\u001b[0m\u001b[0;34m)\u001b[0m\u001b[0;34m\u001b[0m\u001b[0;34m\u001b[0m\u001b[0m\n\u001b[0;32m----> 4\u001b[0;31m   \u001b[0moutputs\u001b[0m \u001b[0;34m=\u001b[0m \u001b[0mmodel\u001b[0m\u001b[0;34m(\u001b[0m\u001b[0mimages\u001b[0m\u001b[0;34m)\u001b[0m\u001b[0;34m\u001b[0m\u001b[0;34m\u001b[0m\u001b[0m\n\u001b[0m\u001b[1;32m      5\u001b[0m   \u001b[0;32mbreak\u001b[0m\u001b[0;34m\u001b[0m\u001b[0;34m\u001b[0m\u001b[0m\n",
            "\u001b[0;32m/usr/local/lib/python3.8/dist-packages/torch/nn/modules/module.py\u001b[0m in \u001b[0;36m_call_impl\u001b[0;34m(self, *input, **kwargs)\u001b[0m\n\u001b[1;32m   1192\u001b[0m         if not (self._backward_hooks or self._forward_hooks or self._forward_pre_hooks or _global_backward_hooks\n\u001b[1;32m   1193\u001b[0m                 or _global_forward_hooks or _global_forward_pre_hooks):\n\u001b[0;32m-> 1194\u001b[0;31m             \u001b[0;32mreturn\u001b[0m \u001b[0mforward_call\u001b[0m\u001b[0;34m(\u001b[0m\u001b[0;34m*\u001b[0m\u001b[0minput\u001b[0m\u001b[0;34m,\u001b[0m \u001b[0;34m**\u001b[0m\u001b[0mkwargs\u001b[0m\u001b[0;34m)\u001b[0m\u001b[0;34m\u001b[0m\u001b[0;34m\u001b[0m\u001b[0m\n\u001b[0m\u001b[1;32m   1195\u001b[0m         \u001b[0;31m# Do not call functions when jit is used\u001b[0m\u001b[0;34m\u001b[0m\u001b[0;34m\u001b[0m\u001b[0;34m\u001b[0m\u001b[0m\n\u001b[1;32m   1196\u001b[0m         \u001b[0mfull_backward_hooks\u001b[0m\u001b[0;34m,\u001b[0m \u001b[0mnon_full_backward_hooks\u001b[0m \u001b[0;34m=\u001b[0m \u001b[0;34m[\u001b[0m\u001b[0;34m]\u001b[0m\u001b[0;34m,\u001b[0m \u001b[0;34m[\u001b[0m\u001b[0;34m]\u001b[0m\u001b[0;34m\u001b[0m\u001b[0;34m\u001b[0m\u001b[0m\n",
            "\u001b[0;32m/usr/local/lib/python3.8/dist-packages/torch/nn/modules/linear.py\u001b[0m in \u001b[0;36mforward\u001b[0;34m(self, input)\u001b[0m\n\u001b[1;32m    112\u001b[0m \u001b[0;34m\u001b[0m\u001b[0m\n\u001b[1;32m    113\u001b[0m     \u001b[0;32mdef\u001b[0m \u001b[0mforward\u001b[0m\u001b[0;34m(\u001b[0m\u001b[0mself\u001b[0m\u001b[0;34m,\u001b[0m \u001b[0minput\u001b[0m\u001b[0;34m:\u001b[0m \u001b[0mTensor\u001b[0m\u001b[0;34m)\u001b[0m \u001b[0;34m->\u001b[0m \u001b[0mTensor\u001b[0m\u001b[0;34m:\u001b[0m\u001b[0;34m\u001b[0m\u001b[0;34m\u001b[0m\u001b[0m\n\u001b[0;32m--> 114\u001b[0;31m         \u001b[0;32mreturn\u001b[0m \u001b[0mF\u001b[0m\u001b[0;34m.\u001b[0m\u001b[0mlinear\u001b[0m\u001b[0;34m(\u001b[0m\u001b[0minput\u001b[0m\u001b[0;34m,\u001b[0m \u001b[0mself\u001b[0m\u001b[0;34m.\u001b[0m\u001b[0mweight\u001b[0m\u001b[0;34m,\u001b[0m \u001b[0mself\u001b[0m\u001b[0;34m.\u001b[0m\u001b[0mbias\u001b[0m\u001b[0;34m)\u001b[0m\u001b[0;34m\u001b[0m\u001b[0;34m\u001b[0m\u001b[0m\n\u001b[0m\u001b[1;32m    115\u001b[0m \u001b[0;34m\u001b[0m\u001b[0m\n\u001b[1;32m    116\u001b[0m     \u001b[0;32mdef\u001b[0m \u001b[0mextra_repr\u001b[0m\u001b[0;34m(\u001b[0m\u001b[0mself\u001b[0m\u001b[0;34m)\u001b[0m \u001b[0;34m->\u001b[0m \u001b[0mstr\u001b[0m\u001b[0;34m:\u001b[0m\u001b[0;34m\u001b[0m\u001b[0;34m\u001b[0m\u001b[0m\n",
            "\u001b[0;31mRuntimeError\u001b[0m: mat1 and mat2 shapes cannot be multiplied (2800x28 and 784x10)"
          ]
        }
      ]
    },
    {
      "cell_type": "markdown",
      "source": [
        "This error y because we have a shape 1x20x20 but we need a vector of size 784."
      ],
      "metadata": {
        "id": "5iem4zMGhghR"
      }
    },
    {
      "cell_type": "code",
      "source": [
        "class MnistModel(nn.Module):\n",
        "  def __init__(self):\n",
        "    super().__init__()\n",
        "    self.linear = nn.Linear(input_size, num_classes)\n",
        "\n",
        "  def forward(self, xb):\n",
        "    xb = xb.reshape(-1, 784)\n",
        "    out = self.linear(xb)\n",
        "    return out\n",
        "\n",
        "model = MnistModel() "
      ],
      "metadata": {
        "id": "NEIAg2dKhui2"
      },
      "execution_count": 27,
      "outputs": []
    },
    {
      "cell_type": "code",
      "source": [],
      "metadata": {
        "id": "5JMV__TyiRw5"
      },
      "execution_count": null,
      "outputs": []
    },
    {
      "cell_type": "code",
      "source": [],
      "metadata": {
        "id": "5K8yuBMahukg"
      },
      "execution_count": null,
      "outputs": []
    }
  ]
}