{
  "nbformat": 4,
  "nbformat_minor": 0,
  "metadata": {
    "colab": {
      "provenance": [],
      "authorship_tag": "ABX9TyP3W8sLrCq8EXza+j9xI7H+",
      "include_colab_link": true
    },
    "kernelspec": {
      "name": "python3",
      "display_name": "Python 3"
    },
    "language_info": {
      "name": "python"
    }
  },
  "cells": [
    {
      "cell_type": "markdown",
      "metadata": {
        "id": "view-in-github",
        "colab_type": "text"
      },
      "source": [
        "<a href=\"https://colab.research.google.com/github/MiguelAngel-ht/PyTorch-Examples/blob/main/01Nb-Basics.ipynb\" target=\"_parent\"><img src=\"https://colab.research.google.com/assets/colab-badge.svg\" alt=\"Open In Colab\"/></a>"
      ]
    },
    {
      "cell_type": "markdown",
      "source": [
        "# **PyTorch (Basics)**"
      ],
      "metadata": {
        "id": "JxpOkbXkGdvA"
      }
    },
    {
      "cell_type": "markdown",
      "source": [
        "**PyTorch** is an optimized tensor library for deep learning using GPUs and CPUs.\n",
        "\n",
        "**Torch** is an open-source machine learning library, a scientific computing framework, and a script language based on the Lua programming language."
      ],
      "metadata": {
        "id": "8ny0YymJFh7A"
      }
    },
    {
      "cell_type": "code",
      "execution_count": 1,
      "metadata": {
        "id": "fc-xNgLF-32g"
      },
      "outputs": [],
      "source": [
        "import torch"
      ]
    },
    {
      "cell_type": "code",
      "source": [
        "# define a number\n",
        "t = torch.tensor(5.0)\n",
        "t"
      ],
      "metadata": {
        "colab": {
          "base_uri": "https://localhost:8080/"
        },
        "id": "Q1rvZiVA-9KY",
        "outputId": "954e3421-2b6f-42f2-c238-9eb3ca8928b9"
      },
      "execution_count": 2,
      "outputs": [
        {
          "output_type": "execute_result",
          "data": {
            "text/plain": [
              "tensor(5.)"
            ]
          },
          "metadata": {},
          "execution_count": 2
        }
      ]
    },
    {
      "cell_type": "code",
      "source": [
        "# type variable\n",
        "t.dtype"
      ],
      "metadata": {
        "colab": {
          "base_uri": "https://localhost:8080/"
        },
        "id": "GnzTHmpBKzKP",
        "outputId": "4f296e12-a2ca-4de3-b7d2-d09ac838934d"
      },
      "execution_count": 7,
      "outputs": [
        {
          "output_type": "execute_result",
          "data": {
            "text/plain": [
              "torch.float32"
            ]
          },
          "metadata": {},
          "execution_count": 7
        }
      ]
    },
    {
      "cell_type": "code",
      "source": [
        "# vector\n",
        "v = torch.tensor([1,2,3,4])\n",
        "v"
      ],
      "metadata": {
        "colab": {
          "base_uri": "https://localhost:8080/"
        },
        "id": "ay91dOlVLVyN",
        "outputId": "0a3c59d6-5ef6-4a23-ba7f-d00a4adc5cae"
      },
      "execution_count": 8,
      "outputs": [
        {
          "output_type": "execute_result",
          "data": {
            "text/plain": [
              "tensor([1, 2, 3, 4])"
            ]
          },
          "metadata": {},
          "execution_count": 8
        }
      ]
    },
    {
      "cell_type": "code",
      "source": [
        "# matrix\n",
        "m = torch.tensor([[1,2,3,4],[1,2,3,4]])\n",
        "m"
      ],
      "metadata": {
        "colab": {
          "base_uri": "https://localhost:8080/"
        },
        "id": "WU4z0NWJLfGM",
        "outputId": "47e9021e-fe2f-4c17-cd0d-be139b6773e4"
      },
      "execution_count": 10,
      "outputs": [
        {
          "output_type": "execute_result",
          "data": {
            "text/plain": [
              "tensor([[1, 2, 3, 4],\n",
              "        [1, 2, 3, 4]])"
            ]
          },
          "metadata": {},
          "execution_count": 10
        }
      ]
    },
    {
      "cell_type": "code",
      "source": [
        "# 3 dimentional array\n",
        "t1 = torch.tensor([[[1,2,3,4],[1,2,3,4]],[[1,2,3,4],[1,2,3,4]]])\n",
        "t1"
      ],
      "metadata": {
        "colab": {
          "base_uri": "https://localhost:8080/"
        },
        "id": "0S0gBtsXMUK9",
        "outputId": "382741bb-aa8a-4afb-818e-d52443ce1781"
      },
      "execution_count": 11,
      "outputs": [
        {
          "output_type": "execute_result",
          "data": {
            "text/plain": [
              "tensor([[[1, 2, 3, 4],\n",
              "         [1, 2, 3, 4]],\n",
              "\n",
              "        [[1, 2, 3, 4],\n",
              "         [1, 2, 3, 4]]])"
            ]
          },
          "metadata": {},
          "execution_count": 11
        }
      ]
    },
    {
      "cell_type": "code",
      "source": [
        "# shapes\n",
        "print('number: ', t.shape)\n",
        "print('vector: ', v.shape)\n",
        "print('matrix: ', m.shape)\n",
        "print('tensor: ', t1.shape)"
      ],
      "metadata": {
        "colab": {
          "base_uri": "https://localhost:8080/"
        },
        "id": "hSZYvQoSMmaS",
        "outputId": "7e6c69bd-2941-4aa2-f23e-0529e6e73672"
      },
      "execution_count": 12,
      "outputs": [
        {
          "output_type": "stream",
          "name": "stdout",
          "text": [
            "number:  torch.Size([])\n",
            "vector:  torch.Size([4])\n",
            "matrix:  torch.Size([2, 4])\n",
            "tensor:  torch.Size([2, 2, 4])\n"
          ]
        }
      ]
    },
    {
      "cell_type": "code",
      "source": [
        "# create tensor\n",
        "x = torch.tensor(3.)\n",
        "b = torch.tensor(4., requires_grad=True)\n",
        "w = torch.tensor(5., requires_grad=True)"
      ],
      "metadata": {
        "id": "cE-POB85vwu3"
      },
      "execution_count": 2,
      "outputs": []
    },
    {
      "cell_type": "code",
      "source": [
        "# arithmetic operation \n",
        "y = x * w   +   b\n",
        "y"
      ],
      "metadata": {
        "colab": {
          "base_uri": "https://localhost:8080/"
        },
        "id": "YOAS1FuuwJG7",
        "outputId": "d6550fdc-5d84-4824-ad9f-086f174e776a"
      },
      "execution_count": 3,
      "outputs": [
        {
          "output_type": "execute_result",
          "data": {
            "text/plain": [
              "tensor(19., grad_fn=<AddBackward0>)"
            ]
          },
          "metadata": {},
          "execution_count": 3
        }
      ]
    },
    {
      "cell_type": "markdown",
      "source": [
        "$y = 3x + 4$"
      ],
      "metadata": {
        "id": "XlGdRQ0PDmUK"
      }
    },
    {
      "cell_type": "code",
      "source": [
        "# compute derivative\n",
        "y.backward()"
      ],
      "metadata": {
        "id": "BajSzkoHyIoA"
      },
      "execution_count": 4,
      "outputs": []
    },
    {
      "cell_type": "code",
      "source": [
        "# gradiants\n",
        "print('dy/dx =', x.grad)\n",
        "print('dy/dw =', w.grad)\n",
        "print('dy/db =', b.grad)"
      ],
      "metadata": {
        "colab": {
          "base_uri": "https://localhost:8080/"
        },
        "id": "4-nbquRHyPL7",
        "outputId": "7645849a-31fa-4c01-da2b-29bf2314a97e"
      },
      "execution_count": 5,
      "outputs": [
        {
          "output_type": "stream",
          "name": "stdout",
          "text": [
            "dy/dx = None\n",
            "dy/dw = tensor(3.)\n",
            "dy/db = tensor(1.)\n"
          ]
        }
      ]
    },
    {
      "cell_type": "markdown",
      "source": [
        "Using Numpy "
      ],
      "metadata": {
        "id": "TEhqxZZED9a6"
      }
    },
    {
      "cell_type": "code",
      "source": [
        "import numpy as np"
      ],
      "metadata": {
        "id": "VNRRXgP-DkFf"
      },
      "execution_count": 6,
      "outputs": []
    },
    {
      "cell_type": "code",
      "source": [
        "# array\n",
        "v = np.array([1,2,3,4])\n",
        "v"
      ],
      "metadata": {
        "colab": {
          "base_uri": "https://localhost:8080/"
        },
        "id": "GYLJdR7gECeS",
        "outputId": "de3dd886-77bd-4f1b-d3c7-1be7ce1cf9c9"
      },
      "execution_count": 9,
      "outputs": [
        {
          "output_type": "execute_result",
          "data": {
            "text/plain": [
              "array([1, 2, 3, 4])"
            ]
          },
          "metadata": {},
          "execution_count": 9
        }
      ]
    },
    {
      "cell_type": "code",
      "source": [
        "# convert numpy array to torch tersor\n",
        "y = torch.from_numpy(v)\n",
        "y "
      ],
      "metadata": {
        "colab": {
          "base_uri": "https://localhost:8080/"
        },
        "id": "duWe--3mELs-",
        "outputId": "383eed72-2852-4aa5-ec3e-cfafabb099a1"
      },
      "execution_count": 10,
      "outputs": [
        {
          "output_type": "execute_result",
          "data": {
            "text/plain": [
              "tensor([1, 2, 3, 4])"
            ]
          },
          "metadata": {},
          "execution_count": 10
        }
      ]
    },
    {
      "cell_type": "code",
      "source": [
        "# convert torch tersor to numpy array\n",
        "x = y.numpy()\n",
        "x "
      ],
      "metadata": {
        "colab": {
          "base_uri": "https://localhost:8080/"
        },
        "id": "odiZAV87EpHR",
        "outputId": "4b7c2851-b1b9-4759-ea13-2725e0764b06"
      },
      "execution_count": 11,
      "outputs": [
        {
          "output_type": "execute_result",
          "data": {
            "text/plain": [
              "array([1, 2, 3, 4])"
            ]
          },
          "metadata": {},
          "execution_count": 11
        }
      ]
    }
  ]
}